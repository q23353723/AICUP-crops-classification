{
 "cells": [
  {
   "cell_type": "code",
   "execution_count": 1,
   "metadata": {},
   "outputs": [],
   "source": [
    "import os\n",
    "import pandas as pd\n",
    "import cv2\n",
    "import numpy as np\n",
    "from tqdm import tqdm"
   ]
  },
  {
   "cell_type": "markdown",
   "metadata": {},
   "source": [
    "# 資料夾結構\n",
    "dataset<br>\n",
    "├─ asparagus<br>\n",
    "├─ bambooshoots<br>\n",
    "├─ betel<br>\n",
    "   ...<br>\n",
    "├─ waterbamboor<br>\n"
   ]
  },
  {
   "cell_type": "markdown",
   "metadata": {},
   "source": [
    "# 壓縮圖片解析度"
   ]
  },
  {
   "cell_type": "code",
   "execution_count": 2,
   "metadata": {},
   "outputs": [
    {
     "name": "stderr",
     "output_type": "stream",
     "text": [
      "100%|██████████| 2398/2398 [06:07<00:00,  6.52it/s]\n",
      "100%|██████████| 3193/3193 [07:09<00:00,  7.44it/s]\n",
      "100%|██████████| 2041/2041 [05:54<00:00,  5.76it/s]\n",
      "100%|██████████| 3198/3198 [07:13<00:00,  7.37it/s]\n",
      "100%|██████████| 2396/2396 [06:50<00:00,  5.83it/s]\n",
      "100%|██████████| 3200/3200 [09:41<00:00,  5.50it/s]\n",
      "100%|██████████| 3179/3179 [07:25<00:00,  7.14it/s]\n",
      "100%|██████████| 3198/3198 [09:09<00:00,  5.82it/s]\n",
      "100%|██████████| 2400/2400 [07:15<00:00,  5.51it/s]\n",
      "100%|██████████| 3158/3158 [08:17<00:00,  6.35it/s]\n",
      "100%|██████████| 3199/3199 [08:46<00:00,  6.08it/s]\n",
      "100%|██████████| 2395/2395 [07:57<00:00,  5.02it/s]\n",
      "100%|██████████| 2242/2242 [06:50<00:00,  5.46it/s]\n",
      "100%|██████████| 2400/2400 [05:17<00:00,  7.56it/s]\n",
      "100%|██████████| 3192/3192 [08:42<00:00,  6.11it/s]\n",
      "100%|██████████| 2399/2399 [06:59<00:00,  5.71it/s]\n",
      "100%|██████████| 3198/3198 [08:15<00:00,  6.45it/s]\n",
      "100%|██████████| 2399/2399 [06:24<00:00,  6.25it/s]\n",
      "100%|██████████| 2162/2162 [05:34<00:00,  6.46it/s]\n",
      "100%|██████████| 3199/3199 [09:13<00:00,  5.78it/s]\n",
      "100%|██████████| 2228/2228 [05:52<00:00,  6.31it/s]\n",
      "100%|██████████| 3158/3158 [08:58<00:00,  5.87it/s]\n",
      "100%|██████████| 3195/3195 [11:30<00:00,  4.63it/s]\n",
      "100%|██████████| 2395/2395 [04:53<00:00,  8.15it/s]\n",
      "100%|██████████| 3199/3199 [08:22<00:00,  6.37it/s]\n",
      "100%|██████████| 2394/2394 [05:49<00:00,  6.85it/s]\n",
      "100%|██████████| 2153/2153 [05:00<00:00,  7.17it/s]\n",
      "100%|██████████| 2397/2397 [06:07<00:00,  6.53it/s]\n",
      "100%|██████████| 2126/2126 [06:36<00:00,  5.36it/s]\n",
      "100%|██████████| 2331/2331 [07:24<00:00,  5.25it/s]\n",
      "100%|██████████| 2399/2399 [06:50<00:00,  5.84it/s]\n",
      "100%|██████████| 3199/3199 [09:08<00:00,  5.83it/s]\n",
      "100%|██████████| 3194/3194 [09:13<00:00,  5.77it/s]\n"
     ]
    }
   ],
   "source": [
    "save_path = './dataset_1200/'\n",
    "\n",
    "dataset_dir = \"./dataset\"\n",
    "\n",
    "#依序處理每個類別資料夾\n",
    "for i, image_class in enumerate(os.listdir(dataset_dir)):\n",
    "    class_path = os.path.join(dataset_dir, image_class)\n",
    "    if os.path.isdir(class_path):\n",
    "        save_class_path = os.path.join(save_path, image_class)\n",
    "        #如果儲存路徑不存在自動建立\n",
    "        if not os.path.exists(save_class_path):\n",
    "            os.makedirs(save_class_path)\n",
    "        #將影像resize成1200*1200\n",
    "        for image_id in tqdm(os.listdir(class_path)):\n",
    "            image = cv2.imread(os.path.join(class_path, image_id))\n",
    "            image = cv2.resize(image, (1200, 1200))\n",
    "            cv2.imwrite(os.path.join(save_class_path, image_id), image)"
   ]
  },
  {
   "cell_type": "markdown",
   "metadata": {},
   "source": [
    "# 計算資料集影像RGB通道的標準差和平均值"
   ]
  },
  {
   "cell_type": "code",
   "execution_count": 4,
   "metadata": {},
   "outputs": [
    {
     "name": "stderr",
     "output_type": "stream",
     "text": [
      "100%|██████████| 2398/2398 [02:44<00:00, 14.56it/s]\n",
      "100%|██████████| 3193/3193 [03:42<00:00, 14.35it/s]\n",
      "100%|██████████| 2041/2041 [02:17<00:00, 14.90it/s]\n",
      "100%|██████████| 3198/3198 [03:33<00:00, 14.98it/s]\n",
      "100%|██████████| 2396/2396 [02:44<00:00, 14.56it/s]\n",
      "100%|██████████| 3200/3200 [03:46<00:00, 14.13it/s]\n",
      "100%|██████████| 3198/3198 [03:33<00:00, 14.98it/s]\n",
      "100%|██████████| 2400/2400 [02:45<00:00, 14.51it/s]\n",
      " 27%|██▋       | 855/3158 [00:55<02:28, 15.47it/s]IOPub message rate exceeded.\n",
      "The notebook server will temporarily stop sending output\n",
      "to the client in order to avoid crashing it.\n",
      "To change this limit, set the config variable\n",
      "`--NotebookApp.iopub_msg_rate_limit`.\n",
      "\n",
      "Current values:\n",
      "NotebookApp.iopub_msg_rate_limit=1000.0 (msgs/sec)\n",
      "NotebookApp.rate_limit_window=3.0 (secs)\n",
      "\n",
      "100%|██████████| 2395/2395 [02:43<00:00, 14.62it/s]\n",
      "100%|██████████| 2242/2242 [02:28<00:00, 15.07it/s]\n",
      "100%|██████████| 2400/2400 [02:40<00:00, 14.93it/s]\n",
      "100%|██████████| 3192/3192 [03:36<00:00, 14.72it/s]\n",
      "100%|██████████| 2399/2399 [02:38<00:00, 15.09it/s]\n",
      "100%|██████████| 3198/3198 [03:35<00:00, 14.86it/s]\n",
      "100%|██████████| 2399/2399 [02:38<00:00, 15.16it/s]\n",
      "100%|██████████| 2162/2162 [02:21<00:00, 15.25it/s]\n",
      "100%|██████████| 3199/3199 [03:28<00:00, 15.36it/s]\n",
      "100%|██████████| 2228/2228 [02:21<00:00, 15.71it/s]\n",
      "100%|██████████| 3158/3158 [03:31<00:00, 14.94it/s]\n",
      "100%|██████████| 3195/3195 [03:35<00:00, 14.83it/s]\n",
      "100%|██████████| 2395/2395 [02:40<00:00, 14.93it/s]\n",
      "100%|██████████| 3199/3199 [03:33<00:00, 14.96it/s]\n",
      "100%|██████████| 2153/2153 [02:19<00:00, 15.45it/s]\n",
      "100%|██████████| 2397/2397 [02:39<00:00, 15.03it/s]\n",
      "100%|██████████| 2126/2126 [02:24<00:00, 14.71it/s]\n",
      "  9%|▉         | 216/2331 [00:14<02:21, 14.99it/s]IOPub message rate exceeded.\n",
      "The notebook server will temporarily stop sending output\n",
      "to the client in order to avoid crashing it.\n",
      "To change this limit, set the config variable\n",
      "`--NotebookApp.iopub_msg_rate_limit`.\n",
      "\n",
      "Current values:\n",
      "NotebookApp.iopub_msg_rate_limit=1000.0 (msgs/sec)\n",
      "NotebookApp.rate_limit_window=3.0 (secs)\n",
      "\n"
     ]
    }
   ],
   "source": [
    "dataset_dir = \"./dataset_1200\"\n",
    "mean_list = []\n",
    "std_list = []\n",
    "for i, image_class in enumerate(os.listdir(dataset_dir)):\n",
    "    if os.path.isdir(os.path.join(dataset_dir, image_class)):\n",
    "        for image_id in tqdm(os.listdir(os.path.join(dataset_dir, image_class))):\n",
    "            image = cv2.imread(os.path.join(dataset_dir, image_class, image_id))\n",
    "            image = image / 255\n",
    "            mean_r = np.mean(image[:,:,2])\n",
    "            mean_g = np.mean(image[:,:,1])\n",
    "            mean_b = np.mean(image[:,:,0])\n",
    "            std_r = np.std(image[:,:,2])\n",
    "            std_g = np.std(image[:,:,1])\n",
    "            std_b = np.std(image[:,:,0])\n",
    "            mean_list.append([mean_r, mean_g, mean_b])\n",
    "            std_list.append([std_r, std_g, std_b])"
   ]
  },
  {
   "cell_type": "code",
   "execution_count": 5,
   "metadata": {},
   "outputs": [
    {
     "name": "stdout",
     "output_type": "stream",
     "text": [
      "r mean: 0.45880166530111677 std: 0.08075012492584159\n",
      "g mean: 0.48741071776250683 std: 0.07701888427745267\n",
      "b mean: 0.42037818746947636 std: 0.09533666046113468\n"
     ]
    }
   ],
   "source": [
    "color_dict = {0: 'r', 1: 'g', 2:'b'}\n",
    "\n",
    "mean_np_array = np.array(mean_list)\n",
    "std_np_array = np.array(std_list)\n",
    "\n",
    "for i in range(3):\n",
    "    print(f'{color_dict[i]} mean: {np.mean(mean_np_array[:,i])} std: {np.std(mean_np_array[:,i])}')"
   ]
  },
  {
   "cell_type": "markdown",
   "metadata": {},
   "source": [
    "# public和private影像"
   ]
  },
  {
   "cell_type": "code",
   "execution_count": 3,
   "metadata": {},
   "outputs": [
    {
     "name": "stderr",
     "output_type": "stream",
     "text": [
      "100%|██████████| 11148/11148 [30:54<00:00,  6.01it/s]\n"
     ]
    }
   ],
   "source": [
    "save_path = './testset_1200/images/'\n",
    "if not os.path.exists(save_path):\n",
    "    os.makedirs(save_path)\n",
    "dataset_dir = \"./testset\"\n",
    "for image_id in tqdm(os.listdir(dataset_dir)):\n",
    "    image = cv2.imread(os.path.join(dataset_dir, image_id))\n",
    "    image = cv2.resize(image, (1200, 1200))\n",
    "    cv2.imwrite(os.path.join(save_path, image_id), image)"
   ]
  },
  {
   "cell_type": "code",
   "execution_count": null,
   "metadata": {},
   "outputs": [
    {
     "name": "stderr",
     "output_type": "stream",
     "text": [
      " 92%|█████████▏| 10271/11160 [25:40<02:07,  6.98it/s]"
     ]
    }
   ],
   "source": [
    "import os\n",
    "import cv2\n",
    "from tqdm import tqdm\n",
    "\n",
    "save_path = './private_testset_1200/images/'\n",
    "if not os.path.exists(save_path):\n",
    "    os.makedirs(save_path)\n",
    "dataset_dir = \"./private_testset\"\n",
    "for image_id in tqdm(os.listdir(dataset_dir)):\n",
    "    image = cv2.imread(os.path.join(dataset_dir, image_id))\n",
    "    image = cv2.resize(image, (1200, 1200))\n",
    "    cv2.imwrite(os.path.join(save_path, image_id), image)"
   ]
  },
  {
   "cell_type": "markdown",
   "metadata": {},
   "source": [
    "# 裁切準心部分"
   ]
  },
  {
   "cell_type": "code",
   "execution_count": null,
   "metadata": {},
   "outputs": [],
   "source": [
    "df = pd.read_csv('./tag_locCoor.csv', encoding='big5')\n",
    "\n",
    "save_path = './dataset_p4/'\n",
    "\n",
    "dataset_dir = \"./dataset\"\n",
    "for i, image_class in enumerate(os.listdir(dataset_dir)):\n",
    "    class_path = os.path.join(dataset_dir, image_class)\n",
    "    if os.path.isdir(class_path):\n",
    "        save_class_path = os.path.join(save_path, image_class)\n",
    "        if not os.path.exists(save_class_path):\n",
    "            os.makedirs(save_class_path)\n",
    "        for image_id in tqdm(os.listdir(class_path)):\n",
    "            row = df[df['Img'] == image_id]\n",
    "            image = cv2.imread(os.path.join(class_path, image_id))\n",
    "\n",
    "            height, width, _ = np.shape(image)\n",
    "\n",
    "            '''if height + width > 5000:\n",
    "                length = 512\n",
    "            else:\n",
    "                length = 256'''\n",
    "\n",
    "            length = max(height, width) // 4\n",
    "\n",
    "            try:\n",
    "                if width > height:\n",
    "                    #cv2.circle(image, (int(width/2 + row['target_y']), int(height/2 + row['target_x'])), 5, color=(0,0,255))\n",
    "                    #print(int(width/2 + row['target_y']), int(height/2 + row['target_x']))\n",
    "                    x, y = int(width/2 + row['target_y']), int(height/2 + row['target_x'])\n",
    "                    new_image = image[y-length:y+length,x-length:x+length]\n",
    "                    \n",
    "                else:\n",
    "                    #cv2.circle(image, (int(width/2 + row['target_x']), int(height/2 - row['target_y'])), 5, color=(0,0,255))\n",
    "                    #print(int(width/2 + row['target_x']), int(height/2 - row['target_y']))\n",
    "                    x, y = int(width/2 + row['target_x']), int(height/2 - row['target_y'])\n",
    "                    new_image = image[y-length:y+length,x-length:x+length]\n",
    "\n",
    "                new_image = cv2.resize(new_image, (448, 448))\n",
    "                #new_image = cv2.resize(new_image, (224, 224))\n",
    "                cv2.imwrite(os.path.join(save_class_path, image_id), new_image)\n",
    "            except:\n",
    "                x, y = int(width/2), int(height/2)\n",
    "                new_image = image[y-length:y+length,x-length:x+length]\n",
    "                new_image = cv2.resize(new_image, (448, 448))\n",
    "                cv2.imwrite(os.path.join(save_class_path, image_id), new_image)"
   ]
  }
 ],
 "metadata": {
  "kernelspec": {
   "display_name": "Python 3 (ipykernel)",
   "language": "python",
   "name": "python3"
  },
  "language_info": {
   "codemirror_mode": {
    "name": "ipython",
    "version": 3
   },
   "file_extension": ".py",
   "mimetype": "text/x-python",
   "name": "python",
   "nbconvert_exporter": "python",
   "pygments_lexer": "ipython3",
   "version": "3.8.13"
  },
  "vscode": {
   "interpreter": {
    "hash": "85ad5e3f658df10a348b2c4bce0efb8f62276ea26564ae3f712af45ed083858c"
   }
  }
 },
 "nbformat": 4,
 "nbformat_minor": 2
}
